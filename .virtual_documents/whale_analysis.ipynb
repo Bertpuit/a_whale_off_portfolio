


# Initial imports
import pandas as pd
import numpy as np
import datetime as dt
from pathlib import Path
import seaborn as sns
import matplotlib.pyplot as plt

%matplotlib inline








# Reading whale returns
whale_path = Path("Resources/whale_returns.csv")
whale_df = pd.read_csv(whale_path, index_col = 'Date', parse_dates=True)
whale_df.head()


# Count nulls
whale_df.isnull().sum()


# Drop nulls
whale_df = whale_df.dropna()
whale_df.isnull().sum()





# Reading algorithmic returns
algo_path = Path("Resources/algo_returns.csv")
algo_df = pd.read_csv(algo_path, index_col='Date', parse_dates=True)
algo_df.head()


# Count nulls
algo_df.isnull().sum()


# Drop nulls
algo_df = algo_df.dropna()
algo_df.isnull().sum()





# Reading S&P 500 Closing Prices
sp_path = Path("Resources/sp500_history.csv")
sp_df = pd.read_csv(sp_path, index_col='Date', parse_dates=True)
sp_df.head()


# Check Data Types
sp_df.dtypes


# Fix Data Types
sp_df['Close'] = sp_df['Close'].str.replace('$','')
sp_df['Close'] = sp_df['Close'].astype('float')
sp_df.head()


sp_df.dtypes


# Calculate Daily Returns
sp_daily_returns = sp_df.pct_change()
sp_daily_returns.head()


# Drop nulls
sp_daily_returns = sp_daily_returns.dropna()
sp_daily_returns


# Rename `Close` Column to be specific to this portfolio.
sp_daily_returns = sp_daily_returns.rename(columns={'Close':'SP_Daily_Returns'})
sp_daily_returns.head()





# Join Whale Returns, Algorithmic Returns, and the S&P 500 Returns into a single DataFrame with columns for each portfolio's returns.
daily_returns_joined = pd.concat([whale_df, algo_df, sp_daily_returns], axis = 'columns', join = 'inner')
daily_returns_joined











# Plot daily returns of all portfolios
daily_returns_joined.plot(figsize =(10,10), ylabel = "Daily Returns", title = "Daily Returns for all the Portfolios");





# Calculate cumulative returns of all portfolios
cumulative_returns_all = (1 + daily_returns_joined).cumprod()

# Plot cumulative returns
cumulative_returns_all.plot(figsize = (10,5), ylabel = 'Cumulative Returns', title = 'Cumulative Returns for all Portfolio');











# Box plot to visually show risk
daily_returns_joined.plot.box(figsize = (10,10), rot=90, title= 'Box Plot for each Portfolio');





# Calculate the daily standard deviations of all portfolios
daily_std_joined = daily_returns_joined.std()
daily_std_joined





# Calculate  the daily standard deviation of S&P 500
sp_std = sp_daily_returns.std()
sp_std
# Determine which portfolios are riskier than the S&P 500

print('These portfolios are riskier than the S&P 500: BERKSHIRE HATHAWAY INC and TIGER GLOBAL MANAGEMENT LLC')
daily_std_joined > daily_std_joined['SP_Daily_Returns']





# Calculate the annualized standard deviation (252 trading days)
annual_std_for_portfolios = daily_std_joined*np.sqrt(252)
annual_std_for_portfolios











# Calculate the rolling standard deviation for all portfolios using a 21-day window
rolling_std_all_portfolios = daily_returns_joined.rolling(window=21).std()
# Plot the rolling standard deviation
rolling_std_all_portfolios.plot(figsize=(10,8), ylabel='21 window Rolling Standard Deviation', title = 'Rolling Standard Deviation for all Portfolios with 21-day window');





# Calculate the correlation
daily_returns_correlated = daily_returns_joined.corr()
# Display de correlation matrix
sns.heatmap(daily_returns_correlated, vmin = -1, vmax = 1)
daily_returns_correlated





print(daily_returns_joined.columns)


# Calculate covariance of a single portfolio
covariance_algo1 = daily_returns_joined['Algo 1'].cov(daily_returns_joined['SP_Daily_Returns'])
print(f'Alga1 covariance: {covariance_algo1}')
# Calculate variance of S&P 500
sp_variance = daily_returns_joined['SP_Daily_Returns'].var()
print(f'S&P500 variance: {sp_variance}')
# Computing beta
Algo1_beta = covariance_algo1/sp_variance
print(f'Alga1 computed beta: {Algo1_beta}')
# Plot beta trend
rolling_covariance = daily_returns_joined['Algo 1'].rolling(window = 60).cov(daily_returns_joined['SP_Daily_Returns'])
rolling_variance = daily_returns_joined['SP_Daily_Returns'].rolling(window=60).var()
Alga1_rolling = rolling_covariance/rolling_variance
Alga1_rolling.plot(figsize=(10,8), rot = 60, title = 'Alga1 Rolling Beta for a 60 days window.');






daily_returns_joined.head()


# Use `ewm` to calculate the rolling window
#Calculate EMA with a 21-day half-life for standard deviation
daily_returns_ema = daily_returns_joined.ewm(halflife=21).std()
print('-'*30,'Calculated EMA with a 21-day half-life for standard deviation','-'*28)
display(daily_returns_ema.head())

#Calculate rolling window using EMA
rolling_ema = daily_returns_joined.ewm(halflife=21).std()  
rolling_ema_df = pd.DataFrame(rolling_ema)
print('-'*40,'Calculated Rolling window using EMA','-'*45)
display(rolling_ema_df.head())
# Plot the data
daily_returns_joined.ewm(halflife=21).std().plot(figsize=(20,10),title="EWM All Portfolios");








# Annualized Sharpe Ratios
sharpe_annualized = (daily_returns_joined.mean()*252)/(annual_std_for_portfolios)
print(f'Annualized Sharpe Ratios :\n\n{sharpe_annualized}')


# Visualize the sharpe ratios as a bar plot
sharpe_annualized.plot.bar(title= 'Sharpe Ratios');














# Reading data from 1st stock
meta_closing_path = Path('Resources/meta_closing.csv')
meta_closing_df = pd.read_csv(meta_closing_path, index_col = 'Date', infer_datetime_format = True, parse_dates=True).sort_index()

meta_closing_df.rename(columns = {'Close': 'Meta Price'}, inplace = True)

meta_closing_df.head()


# Reading data from 2nd stock
tesla_closing_path = Path('Resources/tesla_closing.csv')
tesla_closing_df = pd.read_csv(tesla_closing_path, index_col = 'Date', parse_dates = True)

tesla_closing_df.rename(columns = {'Close': 'Tesla Price'}, inplace = True)

tesla_closing_df.head()


# Reading data from 3rd stock
coca_closing_path = Path('Resources/coca-cola_closing.csv')
coca_closing_df = pd.read_csv(coca_closing_path, index_col = 'Date', parse_dates = True)

coca_closing_df.rename(columns = {'Close': 'Coca-Cola Price'}, inplace = True)

coca_closing_df.head()


# Combine all stocks in a single DataFrame
joined_stock = pd.concat((meta_closing_df, tesla_closing_df, coca_closing_df), axis = 'columns', join = 'inner')
joined_stock.head()


# Reset Date index
joined_stock.index = pd.to_datetime(joined_stock.index)
joined_stock.index = joined_stock.index.date
joined_stock['Date'] = joined_stock.index
joined_stock = joined_stock.set_index('Date')

joined_stock.head()


# Reorganize portfolio data by having a column per symbol

joined_stock.head()


# Calculate daily returns
joined_stock_dr = joined_stock.pct_change()
# Drop NAs
joined_stock_dr.dropna(inplace = True)
# Display sample data
display(joined_stock_dr.head())
joined_stock_dr.isnull().sum()





# Set weights
weights = [1/3, 1/3, 1/3]

# Calculate portfolio return
joined_stock_dr = joined_stock_dr.dot(weights)
# Display sample data
joined_stock_dr.head()





# Join your returns DataFrame to the original returns DataFrame

joined_stock_dr.name = 'STOCKS'
join_whale_personal = daily_returns_joined.join(joined_stock_dr)



# Only compare dates where return data exists for all the stocks (drop NaNs)
join_whale_personal.dropna(inplace = True)
join_whale_personal








# Calculate the annualized `std`
join_whale_personal_annualized_std = join_whale_personal.std()*np.sqrt(252)
join_whale_personal_annualized_std





# Calculate rolling standard deviation
join_whale_personal_rolling_std = join_whale_personal.rolling(window = 21).std()

# Plot rolling standard deviation
join_whale_personal_rolling_std.plot(ylabel='21 window Rolling Standard Deviation',figsize = (18,15), title = 'Rolling Standard Deviation');





# Calculate and plot the correlation
join_whale_personal_corr = join_whale_personal.corr()
sns.heatmap(join_whale_personal_corr, vmin = -1, vmax = 1);





# Calculate and plot Beta
# Calculate covariance of a single portfolio
covariance_STOCKS = join_whale_personal['STOCKS'].cov(join_whale_personal['SP_Daily_Returns'])
print(f'Stocks covariance: {covariance_STOCKS}')
# Calculate variance of S&P 500
sp_variance = join_whale_personal['SP_Daily_Returns'].var()
print(f'S&P500 variance: {sp_variance}')
# Computing beta
STOCKS_beta = covariance_STOCKS/sp_variance
print(f'Stocks computed beta: {STOCKS_beta}')
# Plot beta trend
rolling_covariance = join_whale_personal['STOCKS'].rolling(window = 60).cov(join_whale_personal['SP_Daily_Returns'])
rolling_variance = join_whale_personal['SP_Daily_Returns'].rolling(window=60).var()
stocks_rolling = rolling_covariance/rolling_variance
Alga1_rolling.plot(figsize=(10,8), rot = 60, title = 'Stocks Rolling Beta for a 60 days window.');





# Calculate Annualized Sharpe Ratios
join_whale_personal_sharpe_annualized = (join_whale_personal.mean()*252)/(join_whale_personal_annualized_std)
print(f'Annualized Sharpe Ratios :\n\n{join_whale_personal_sharpe_annualized}')


# Visualize the sharpe ratios as a bar plot
join_whale_personal_sharpe_annualized.plot(kind = 'bar', figsize = (15,10), title ='Sharpe Ratios', color = 'purple');






